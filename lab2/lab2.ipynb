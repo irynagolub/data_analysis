{
  "nbformat": 4,
  "nbformat_minor": 0,
  "metadata": {
    "colab": {
      "provenance": [],
      "authorship_tag": "ABX9TyO0gTDevP8FXKE0hNttmscx",
      "include_colab_link": true
    },
    "kernelspec": {
      "name": "python3",
      "display_name": "Python 3"
    },
    "language_info": {
      "name": "python"
    }
  },
  "cells": [
    {
      "cell_type": "markdown",
      "metadata": {
        "id": "view-in-github",
        "colab_type": "text"
      },
      "source": [
        "<a href=\"https://colab.research.google.com/gist/irynagolub/34fe7d2112ba3281cab00f732dcd6799/-lab2-ipynb.ipynb\" target=\"_parent\"><img src=\"https://colab.research.google.com/assets/colab-badge.svg\" alt=\"Open In Colab\"/></a>"
      ]
    },
    {
      "cell_type": "code",
      "execution_count": null,
      "metadata": {
        "id": "3tZ8rFacCnkE"
      },
      "outputs": [],
      "source": [
        "# Підготовка та аналіз даних\n",
        "## Лабораторна робота №2\n",
        "### ФБ-25 Голубєва Ірина"
      ]
    },
    {
      "cell_type": "code",
      "source": [
        "import os\n",
        "import urllib.request\n",
        "import pandas as pd\n",
        "\n",
        "def download_data(index, year_start=1981, year_end=2024, data_folder='data'):\n",
        "    if not os.path.exists(data_folder):\n",
        "        os.makedirs(data_folder)\n",
        "\n",
        "    filename = f'obl_{index}.csv'\n",
        "    filepath = os.path.join(data_folder, filename)\n",
        "\n",
        "    if os.path.isfile(filepath):\n",
        "        print(f\"File {filename} already exists, skipping download.\")\n",
        "        return\n",
        "\n",
        "    url = f'https://www.star.nesdis.noaa.gov/smcd/emb/vci/VH/get_TS_admin.php?country=UKR&provinceID={index}&year1={year_start}&year2={year_end}&type=Mean'\n",
        "\n",
        "    with urllib.request.urlopen(url) as wp, open(filepath, 'wb') as out:\n",
        "        out.write(wp.read())\n",
        "        print(f'VHI index data for region {index} is downloaded and saved as {filename}')\n",
        "\n",
        "for i in range(1, 28):\n",
        "    download_data(i)"
      ],
      "metadata": {
        "colab": {
          "base_uri": "https://localhost:8080/"
        },
        "id": "kOcMva9pC16X",
        "outputId": "7336f60f-5787-4dc4-f0dc-e1c9e0831ab4"
      },
      "execution_count": 6,
      "outputs": [
        {
          "output_type": "stream",
          "name": "stdout",
          "text": [
            "File obl_1.csv already exists, skipping download.\n",
            "File obl_2.csv already exists, skipping download.\n",
            "File obl_3.csv already exists, skipping download.\n",
            "File obl_4.csv already exists, skipping download.\n",
            "File obl_5.csv already exists, skipping download.\n",
            "File obl_6.csv already exists, skipping download.\n",
            "File obl_7.csv already exists, skipping download.\n",
            "File obl_8.csv already exists, skipping download.\n",
            "File obl_9.csv already exists, skipping download.\n",
            "File obl_10.csv already exists, skipping download.\n",
            "File obl_11.csv already exists, skipping download.\n",
            "File obl_12.csv already exists, skipping download.\n",
            "File obl_13.csv already exists, skipping download.\n",
            "File obl_14.csv already exists, skipping download.\n",
            "File obl_15.csv already exists, skipping download.\n",
            "File obl_16.csv already exists, skipping download.\n",
            "File obl_17.csv already exists, skipping download.\n",
            "File obl_18.csv already exists, skipping download.\n",
            "File obl_19.csv already exists, skipping download.\n",
            "File obl_20.csv already exists, skipping download.\n",
            "File obl_21.csv already exists, skipping download.\n",
            "File obl_22.csv already exists, skipping download.\n",
            "File obl_23.csv already exists, skipping download.\n",
            "File obl_24.csv already exists, skipping download.\n",
            "File obl_25.csv already exists, skipping download.\n",
            "File obl_26.csv already exists, skipping download.\n",
            "File obl_27.csv already exists, skipping download.\n"
          ]
        }
      ]
    },
    {
      "cell_type": "code",
      "source": [
        "import os\n",
        "import pandas as pd\n",
        "import re\n",
        "\n",
        "def data_cleaning(dir_path):\n",
        "    all_data = []\n",
        "    if not os.path.isdir(dir_path):\n",
        "        print(f\"The directory {dir_path} does not exist.\")\n",
        "        return None\n",
        "\n",
        "    for i, file in enumerate(os.listdir(dir_path)):\n",
        "        file_path = os.path.join(dir_path, file)\n",
        "        if file.endswith('.csv'):\n",
        "            df = pd.read_csv(file_path, index_col=False, header=1)\n",
        "            df['ID'] = i + 1\n",
        "            all_data.append(df)\n",
        "\n",
        "    df = pd.concat(all_data).drop_duplicates().reset_index(drop=True)\n",
        "    df = df.applymap(lambda x: x.encode('ascii', 'ignore').decode('ascii') if isinstance(x, str) else x)\n",
        "    df = df.applymap(lambda x: re.sub(r'<.*?>', '', x) if isinstance(x, str) else x)\n",
        "    df.columns = [col.replace(' ', '').replace('(%)', '').replace('Corn', '').replace('<br>', '') for col in df.columns]\n",
        "    df = df[df['VHI'] != -1]\n",
        "    df =df.dropna()\n",
        "    return df\n",
        "\n",
        "df = data_cleaning('data')\n",
        "df_original = df.copy()\n",
        "\n",
        "styled_head = df.head().style.set_table_styles(\n",
        "    [{'selector': 'th', 'props': [('font-size', '12pt'), ('background-color', 'lightblue')]}]\n",
        ").hide(axis='index')\n",
        "\n",
        "styled_tail = df.tail().style.set_table_styles(\n",
        "    [{'selector': 'th', 'props': [('font-size', '12pt'), ('background-color', 'lightcoral')]}]\n",
        ").hide(axis='index')\n",
        "\n",
        "display(styled_head)\n",
        "display(styled_tail)"
      ],
      "metadata": {
        "colab": {
          "base_uri": "https://localhost:8080/",
          "height": 404
        },
        "id": "3CHeuT-UC3Kb",
        "outputId": "fb88651b-5124-427b-aad6-b10366d31693"
      },
      "execution_count": 4,
      "outputs": [
        {
          "output_type": "display_data",
          "data": {
            "text/plain": [
              "<pandas.io.formats.style.Styler at 0x7edd9f7dfc40>"
            ],
            "text/html": [
              "<style type=\"text/css\">\n",
              "#T_abe35 th {\n",
              "  font-size: 12pt;\n",
              "  background-color: lightblue;\n",
              "}\n",
              "</style>\n",
              "<table id=\"T_abe35\" class=\"dataframe\">\n",
              "  <thead>\n",
              "    <tr>\n",
              "      <th id=\"T_abe35_level0_col0\" class=\"col_heading level0 col0\" >year</th>\n",
              "      <th id=\"T_abe35_level0_col1\" class=\"col_heading level0 col1\" >week</th>\n",
              "      <th id=\"T_abe35_level0_col2\" class=\"col_heading level0 col2\" >SMN</th>\n",
              "      <th id=\"T_abe35_level0_col3\" class=\"col_heading level0 col3\" >SMT</th>\n",
              "      <th id=\"T_abe35_level0_col4\" class=\"col_heading level0 col4\" >VCI</th>\n",
              "      <th id=\"T_abe35_level0_col5\" class=\"col_heading level0 col5\" >TCI</th>\n",
              "      <th id=\"T_abe35_level0_col6\" class=\"col_heading level0 col6\" >VHI</th>\n",
              "      <th id=\"T_abe35_level0_col7\" class=\"col_heading level0 col7\" >ID</th>\n",
              "    </tr>\n",
              "  </thead>\n",
              "  <tbody>\n",
              "    <tr>\n",
              "      <td id=\"T_abe35_row0_col0\" class=\"data row0 col0\" >1982</td>\n",
              "      <td id=\"T_abe35_row0_col1\" class=\"data row0 col1\" >1.000000</td>\n",
              "      <td id=\"T_abe35_row0_col2\" class=\"data row0 col2\" >0.077000</td>\n",
              "      <td id=\"T_abe35_row0_col3\" class=\"data row0 col3\" >262.500000</td>\n",
              "      <td id=\"T_abe35_row0_col4\" class=\"data row0 col4\" >61.420000</td>\n",
              "      <td id=\"T_abe35_row0_col5\" class=\"data row0 col5\" >34.110000</td>\n",
              "      <td id=\"T_abe35_row0_col6\" class=\"data row0 col6\" >47.760000</td>\n",
              "      <td id=\"T_abe35_row0_col7\" class=\"data row0 col7\" >1</td>\n",
              "    </tr>\n",
              "    <tr>\n",
              "      <td id=\"T_abe35_row1_col0\" class=\"data row1 col0\" >1982</td>\n",
              "      <td id=\"T_abe35_row1_col1\" class=\"data row1 col1\" >2.000000</td>\n",
              "      <td id=\"T_abe35_row1_col2\" class=\"data row1 col2\" >0.084000</td>\n",
              "      <td id=\"T_abe35_row1_col3\" class=\"data row1 col3\" >264.780000</td>\n",
              "      <td id=\"T_abe35_row1_col4\" class=\"data row1 col4\" >67.230000</td>\n",
              "      <td id=\"T_abe35_row1_col5\" class=\"data row1 col5\" >24.000000</td>\n",
              "      <td id=\"T_abe35_row1_col6\" class=\"data row1 col6\" >45.620000</td>\n",
              "      <td id=\"T_abe35_row1_col7\" class=\"data row1 col7\" >1</td>\n",
              "    </tr>\n",
              "    <tr>\n",
              "      <td id=\"T_abe35_row2_col0\" class=\"data row2 col0\" >1982</td>\n",
              "      <td id=\"T_abe35_row2_col1\" class=\"data row2 col1\" >3.000000</td>\n",
              "      <td id=\"T_abe35_row2_col2\" class=\"data row2 col2\" >0.086000</td>\n",
              "      <td id=\"T_abe35_row2_col3\" class=\"data row2 col3\" >265.880000</td>\n",
              "      <td id=\"T_abe35_row2_col4\" class=\"data row2 col4\" >67.650000</td>\n",
              "      <td id=\"T_abe35_row2_col5\" class=\"data row2 col5\" >20.410000</td>\n",
              "      <td id=\"T_abe35_row2_col6\" class=\"data row2 col6\" >44.030000</td>\n",
              "      <td id=\"T_abe35_row2_col7\" class=\"data row2 col7\" >1</td>\n",
              "    </tr>\n",
              "    <tr>\n",
              "      <td id=\"T_abe35_row3_col0\" class=\"data row3 col0\" >1982</td>\n",
              "      <td id=\"T_abe35_row3_col1\" class=\"data row3 col1\" >4.000000</td>\n",
              "      <td id=\"T_abe35_row3_col2\" class=\"data row3 col2\" >0.084000</td>\n",
              "      <td id=\"T_abe35_row3_col3\" class=\"data row3 col3\" >266.900000</td>\n",
              "      <td id=\"T_abe35_row3_col4\" class=\"data row3 col4\" >65.130000</td>\n",
              "      <td id=\"T_abe35_row3_col5\" class=\"data row3 col5\" >19.090000</td>\n",
              "      <td id=\"T_abe35_row3_col6\" class=\"data row3 col6\" >42.110000</td>\n",
              "      <td id=\"T_abe35_row3_col7\" class=\"data row3 col7\" >1</td>\n",
              "    </tr>\n",
              "    <tr>\n",
              "      <td id=\"T_abe35_row4_col0\" class=\"data row4 col0\" >1982</td>\n",
              "      <td id=\"T_abe35_row4_col1\" class=\"data row4 col1\" >5.000000</td>\n",
              "      <td id=\"T_abe35_row4_col2\" class=\"data row4 col2\" >0.078000</td>\n",
              "      <td id=\"T_abe35_row4_col3\" class=\"data row4 col3\" >266.890000</td>\n",
              "      <td id=\"T_abe35_row4_col4\" class=\"data row4 col4\" >55.580000</td>\n",
              "      <td id=\"T_abe35_row4_col5\" class=\"data row4 col5\" >25.020000</td>\n",
              "      <td id=\"T_abe35_row4_col6\" class=\"data row4 col6\" >40.300000</td>\n",
              "      <td id=\"T_abe35_row4_col7\" class=\"data row4 col7\" >1</td>\n",
              "    </tr>\n",
              "  </tbody>\n",
              "</table>\n"
            ]
          },
          "metadata": {}
        },
        {
          "output_type": "display_data",
          "data": {
            "text/plain": [
              "<pandas.io.formats.style.Styler at 0x7edd9f88d7e0>"
            ],
            "text/html": [
              "<style type=\"text/css\">\n",
              "#T_c87f3 th {\n",
              "  font-size: 12pt;\n",
              "  background-color: lightcoral;\n",
              "}\n",
              "</style>\n",
              "<table id=\"T_c87f3\" class=\"dataframe\">\n",
              "  <thead>\n",
              "    <tr>\n",
              "      <th id=\"T_c87f3_level0_col0\" class=\"col_heading level0 col0\" >year</th>\n",
              "      <th id=\"T_c87f3_level0_col1\" class=\"col_heading level0 col1\" >week</th>\n",
              "      <th id=\"T_c87f3_level0_col2\" class=\"col_heading level0 col2\" >SMN</th>\n",
              "      <th id=\"T_c87f3_level0_col3\" class=\"col_heading level0 col3\" >SMT</th>\n",
              "      <th id=\"T_c87f3_level0_col4\" class=\"col_heading level0 col4\" >VCI</th>\n",
              "      <th id=\"T_c87f3_level0_col5\" class=\"col_heading level0 col5\" >TCI</th>\n",
              "      <th id=\"T_c87f3_level0_col6\" class=\"col_heading level0 col6\" >VHI</th>\n",
              "      <th id=\"T_c87f3_level0_col7\" class=\"col_heading level0 col7\" >ID</th>\n",
              "    </tr>\n",
              "  </thead>\n",
              "  <tbody>\n",
              "    <tr>\n",
              "      <td id=\"T_c87f3_row0_col0\" class=\"data row0 col0\" >2024</td>\n",
              "      <td id=\"T_c87f3_row0_col1\" class=\"data row0 col1\" >7.000000</td>\n",
              "      <td id=\"T_c87f3_row0_col2\" class=\"data row0 col2\" >0.147000</td>\n",
              "      <td id=\"T_c87f3_row0_col3\" class=\"data row0 col3\" >274.440000</td>\n",
              "      <td id=\"T_c87f3_row0_col4\" class=\"data row0 col4\" >64.210000</td>\n",
              "      <td id=\"T_c87f3_row0_col5\" class=\"data row0 col5\" >19.580000</td>\n",
              "      <td id=\"T_c87f3_row0_col6\" class=\"data row0 col6\" >41.890000</td>\n",
              "      <td id=\"T_c87f3_row0_col7\" class=\"data row0 col7\" >27</td>\n",
              "    </tr>\n",
              "    <tr>\n",
              "      <td id=\"T_c87f3_row1_col0\" class=\"data row1 col0\" >2024</td>\n",
              "      <td id=\"T_c87f3_row1_col1\" class=\"data row1 col1\" >8.000000</td>\n",
              "      <td id=\"T_c87f3_row1_col2\" class=\"data row1 col2\" >0.155000</td>\n",
              "      <td id=\"T_c87f3_row1_col3\" class=\"data row1 col3\" >275.340000</td>\n",
              "      <td id=\"T_c87f3_row1_col4\" class=\"data row1 col4\" >62.490000</td>\n",
              "      <td id=\"T_c87f3_row1_col5\" class=\"data row1 col5\" >23.930000</td>\n",
              "      <td id=\"T_c87f3_row1_col6\" class=\"data row1 col6\" >43.200000</td>\n",
              "      <td id=\"T_c87f3_row1_col7\" class=\"data row1 col7\" >27</td>\n",
              "    </tr>\n",
              "    <tr>\n",
              "      <td id=\"T_c87f3_row2_col0\" class=\"data row2 col0\" >2024</td>\n",
              "      <td id=\"T_c87f3_row2_col1\" class=\"data row2 col1\" >9.000000</td>\n",
              "      <td id=\"T_c87f3_row2_col2\" class=\"data row2 col2\" >0.160000</td>\n",
              "      <td id=\"T_c87f3_row2_col3\" class=\"data row2 col3\" >275.860000</td>\n",
              "      <td id=\"T_c87f3_row2_col4\" class=\"data row2 col4\" >58.460000</td>\n",
              "      <td id=\"T_c87f3_row2_col5\" class=\"data row2 col5\" >31.770000</td>\n",
              "      <td id=\"T_c87f3_row2_col6\" class=\"data row2 col6\" >45.110000</td>\n",
              "      <td id=\"T_c87f3_row2_col7\" class=\"data row2 col7\" >27</td>\n",
              "    </tr>\n",
              "    <tr>\n",
              "      <td id=\"T_c87f3_row3_col0\" class=\"data row3 col0\" >2024</td>\n",
              "      <td id=\"T_c87f3_row3_col1\" class=\"data row3 col1\" >10.000000</td>\n",
              "      <td id=\"T_c87f3_row3_col2\" class=\"data row3 col2\" >0.162000</td>\n",
              "      <td id=\"T_c87f3_row3_col3\" class=\"data row3 col3\" >276.100000</td>\n",
              "      <td id=\"T_c87f3_row3_col4\" class=\"data row3 col4\" >51.840000</td>\n",
              "      <td id=\"T_c87f3_row3_col5\" class=\"data row3 col5\" >40.860000</td>\n",
              "      <td id=\"T_c87f3_row3_col6\" class=\"data row3 col6\" >46.340000</td>\n",
              "      <td id=\"T_c87f3_row3_col7\" class=\"data row3 col7\" >27</td>\n",
              "    </tr>\n",
              "    <tr>\n",
              "      <td id=\"T_c87f3_row4_col0\" class=\"data row4 col0\" >2024</td>\n",
              "      <td id=\"T_c87f3_row4_col1\" class=\"data row4 col1\" >11.000000</td>\n",
              "      <td id=\"T_c87f3_row4_col2\" class=\"data row4 col2\" >0.155000</td>\n",
              "      <td id=\"T_c87f3_row4_col3\" class=\"data row4 col3\" >275.510000</td>\n",
              "      <td id=\"T_c87f3_row4_col4\" class=\"data row4 col4\" >40.660000</td>\n",
              "      <td id=\"T_c87f3_row4_col5\" class=\"data row4 col5\" >56.490000</td>\n",
              "      <td id=\"T_c87f3_row4_col6\" class=\"data row4 col6\" >48.570000</td>\n",
              "      <td id=\"T_c87f3_row4_col7\" class=\"data row4 col7\" >27</td>\n",
              "    </tr>\n",
              "  </tbody>\n",
              "</table>\n"
            ]
          },
          "metadata": {}
        }
      ]
    },
    {
      "cell_type": "code",
      "source": [
        "def change_region_indices(df):\n",
        "\n",
        "    new_to_old_index_mapping = {\n",
        "        1: 22,\n",
        "        2: 24,\n",
        "        3: 23,\n",
        "        4: 4,\n",
        "        5: 5,\n",
        "        6: 6,\n",
        "        7: 7,\n",
        "        8: 19,\n",
        "        9: 20,\n",
        "        10: 10,\n",
        "        11: 11,\n",
        "        12: 12,\n",
        "        13: 13,\n",
        "        14: 14,\n",
        "        15: 15,\n",
        "        16: 16,\n",
        "        17: 17,\n",
        "        18: 18,\n",
        "        19: 9,\n",
        "        20: 21,\n",
        "        21: 1,\n",
        "        22: 2,\n",
        "        23: 3,\n",
        "        24: 8,\n",
        "        25: 25\n",
        "    }\n",
        "\n",
        "    index_to_region_name = {\n",
        "        22: 'Черкаська',\n",
        "        24: 'Чернігівська',\n",
        "        23: 'Чернівецька',\n",
        "        4: 'Крим',\n",
        "        5: 'Дніпропетровська',\n",
        "        6: 'Донецька',\n",
        "        7: 'Івано-Франківська',\n",
        "        19: 'Харківська',\n",
        "        20: 'Херсонська',\n",
        "        10: 'Хмельницька',\n",
        "        11: 'Київська',\n",
        "        12: 'Кіровоградська',\n",
        "        13: 'Луганська',\n",
        "        14: 'Львівська',\n",
        "        15: 'Миколаївська',\n",
        "        16: 'Одеська',\n",
        "        17: 'Полтавська',\n",
        "        18: 'Рівненська',\n",
        "        9: 'Сумська',\n",
        "        21: 'Тернопільська',\n",
        "        1: 'Вінницька',\n",
        "        2: 'Волинська',\n",
        "        3: 'Закарпатська',\n",
        "        8: 'Запорізька',\n",
        "        25: 'Житомирська'\n",
        "    }\n",
        "\n",
        "    df_copy = df.copy()\n",
        "\n",
        "    df_copy['ID'] = df_copy['ID'].apply(lambda x: index_to_region_name.get(new_to_old_index_mapping.get(x, x), x))\n",
        "    return df_copy\n",
        "\n",
        "df_original = data_cleaning('data')\n",
        "df_copy = df_original.copy()\n",
        "df_copy_with_new_indices = change_region_indices(df_copy)\n",
        "print(df_copy_with_new_indices)"
      ],
      "metadata": {
        "colab": {
          "base_uri": "https://localhost:8080/"
        },
        "id": "6dO6s5MZETof",
        "outputId": "bb1eeccd-4a1f-4ca5-e8cd-3264d28a6100"
      },
      "execution_count": 12,
      "outputs": [
        {
          "output_type": "stream",
          "name": "stdout",
          "text": [
            "       year  week    SMN     SMT    VCI    TCI    VHI         ID\n",
            "0      1982   1.0  0.077  262.50  61.42  34.11  47.76  Черкаська\n",
            "1      1982   2.0  0.084  264.78  67.23  24.00  45.62  Черкаська\n",
            "2      1982   3.0  0.086  265.88  67.65  20.41  44.03  Черкаська\n",
            "3      1982   4.0  0.084  266.90  65.13  19.09  42.11  Черкаська\n",
            "4      1982   5.0  0.078  266.89  55.58  25.02  40.30  Черкаська\n",
            "...     ...   ...    ...     ...    ...    ...    ...        ...\n",
            "60352  2024   7.0  0.147  274.44  64.21  19.58  41.89         27\n",
            "60353  2024   8.0  0.155  275.34  62.49  23.93  43.20         27\n",
            "60354  2024   9.0  0.160  275.86  58.46  31.77  45.11         27\n",
            "60355  2024  10.0  0.162  276.10  51.84  40.86  46.34         27\n",
            "60356  2024  11.0  0.155  275.51  40.66  56.49  48.57         27\n",
            "\n",
            "[57915 rows x 8 columns]\n"
          ]
        }
      ]
    },
    {
      "cell_type": "code",
      "source": [
        "import pandas as pd\n",
        "\n",
        "def vhi_extremes_for_region_year(df, region_name, year):\n",
        "    region_data = df[(df['ID'] == region_name) & (df['year'] == year)]\n",
        "    min_vhi = region_data['VHI'].min()\n",
        "    max_vhi = region_data['VHI'].max()\n",
        "    print(f\"Мінімальний VHI для {region_name} у {year} році: {min_vhi}\")\n",
        "    print(f\"Максимальний VHI для {region_name} у {year} році: {max_vhi}\")\n",
        "\n",
        "df_copy_with_new_indices['year'] = pd.to_numeric(df_copy_with_new_indices['year'], errors='coerce')\n",
        "vhi_extremes_for_region_year(df_copy_with_new_indices, 'Вінницька', 2020)"
      ],
      "metadata": {
        "colab": {
          "base_uri": "https://localhost:8080/"
        },
        "id": "DCguZ0ODFaXF",
        "outputId": "31c8cc32-1383-4720-9fb5-74daad8b210f"
      },
      "execution_count": null,
      "outputs": [
        {
          "output_type": "stream",
          "name": "stdout",
          "text": [
            "Мінімальний VHI для Вінницька у 2020 році: 23.16\n",
            "Максимальний VHI для Вінницька у 2020 році: 66.55\n"
          ]
        }
      ]
    },
    {
      "cell_type": "code",
      "source": [
        "import pandas as pd\n",
        "\n",
        "def analyze_vhi(df, region_names, year_start, year_end, threshold_percentage):\n",
        "\n",
        "    regions_data = df[(df['ID'].isin(region_names)) & (df['year'] >= year_start) & (df['year'] <= year_end)]\n",
        "\n",
        "    total_regions = len(region_names)\n",
        "\n",
        "    threshold_regions = (total_regions * threshold_percentage) / 100\n",
        "\n",
        "    drought_years = df[df['VHI'] < 15].groupby('year')['ID'].nunique()\n",
        "\n",
        "    extreme_drought_years = drought_years[drought_years >= threshold_regions].index.tolist()\n",
        "\n",
        "    return regions_data, extreme_drought_years\n",
        "\n",
        "df_copy_with_new_indices['year'] = pd.to_numeric(df_copy_with_new_indices['year'], errors='coerce')\n",
        "\n",
        "region_names_to_analyze = ['Вінницька', 'Житомирська', 'Київська', 'Львівська', 'Одеська']\n",
        "\n",
        "vhi_data, extreme_drought_years = analyze_vhi(df_copy_with_new_indices, region_names_to_analyze, 2000, 2020, 20)\n",
        "\n",
        "print(vhi_data)\n",
        "print(f\"Роки з екстремальними посухами, що торкнулися більше ніж {20}% областей: {extreme_drought_years}\")"
      ],
      "metadata": {
        "colab": {
          "base_uri": "https://localhost:8080/"
        },
        "id": "lK1A8ZxBFcJf",
        "outputId": "155d2a60-25ca-4477-9497-af23e5871c79"
      },
      "execution_count": null,
      "outputs": [
        {
          "output_type": "stream",
          "name": "stdout",
          "text": [
            "         year  week    SMN     SMT    VCI    TCI    VHI         ID\n",
            "936    2000.0   1.0  0.044  262.34  18.62  31.06  24.84  Вінницька\n",
            "937    2000.0   2.0  0.040  261.43  14.43  34.73  24.58  Вінницька\n",
            "938    2000.0   3.0  0.037  260.59  11.60  41.34  26.47  Вінницька\n",
            "939    2000.0   4.0  0.037  260.27  12.79  46.45  29.62  Вінницька\n",
            "940    2000.0   5.0  0.037  260.40  14.78  50.68  32.73  Вінницька\n",
            "...       ...   ...    ...     ...    ...    ...    ...        ...\n",
            "31104  2020.0  48.0  0.078  267.83  45.94  26.30  36.12    Одеська\n",
            "31105  2020.0  49.0  0.068  265.57  47.02  27.97  37.49    Одеська\n",
            "31106  2020.0  50.0  0.059  263.24  45.87  27.94  36.90    Одеська\n",
            "31107  2020.0  51.0  0.052  260.99  46.14  31.62  38.88    Одеська\n",
            "31108  2020.0  52.0  0.048  258.96  49.31  35.78  42.54    Одеська\n",
            "\n",
            "[5360 rows x 8 columns]\n",
            "Роки з екстремальними посухами, що торкнулися більше ніж 20% областей: [1984.0, 1986.0, 1993.0, 1994.0, 1999.0, 2000.0, 2003.0, 2007.0, 2012.0]\n"
          ]
        }
      ]
    },
    {
      "cell_type": "code",
      "source": [
        "def years_with_moderate_droughts(df, percentage_of_regions=20, moderate_drought_range=(15, 35)):\n",
        "    total_regions = df['ID'].nunique()\n",
        "    threshold_regions = (total_regions * percentage_of_regions) / 100\n",
        "\n",
        "    years_drought = df[(df['VHI'] >= moderate_drought_range[0]) & (df['VHI'] < moderate_drought_range[1])].groupby('year')['ID'].nunique()\n",
        "    moderate_drought_years = years_drought[years_drought >= threshold_regions].index.tolist()\n",
        "    print(f\"Роки з помірними посухами: {moderate_drought_years}\")\n",
        "\n",
        "years_with_moderate_droughts(df_copy_with_new_indices, 20)"
      ],
      "metadata": {
        "colab": {
          "base_uri": "https://localhost:8080/"
        },
        "id": "vzH7UvvpFepV",
        "outputId": "85c4174b-a178-46c8-bdb7-10f16bb534a9"
      },
      "execution_count": null,
      "outputs": [
        {
          "output_type": "stream",
          "name": "stdout",
          "text": [
            "Роки з помірними посухами: [1982.0, 1983.0, 1984.0, 1985.0, 1986.0, 1987.0, 1988.0, 1989.0, 1990.0, 1991.0, 1992.0, 1993.0, 1994.0, 1995.0, 1996.0, 1997.0, 1998.0, 1999.0, 2000.0, 2001.0, 2002.0, 2003.0, 2005.0, 2006.0, 2007.0, 2008.0, 2009.0, 2010.0, 2011.0, 2012.0, 2013.0, 2014.0, 2015.0, 2016.0, 2017.0, 2018.0, 2019.0, 2020.0, 2021.0, 2022.0, 2023.0]\n"
          ]
        }
      ]
    }
  ]
}